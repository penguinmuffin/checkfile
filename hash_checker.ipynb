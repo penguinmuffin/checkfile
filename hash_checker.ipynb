{
 "cells": [
  {
   "cell_type": "markdown",
   "metadata": {},
   "source": [
    "# Detecting dataset modification"
   ]
  },
  {
   "cell_type": "markdown",
   "metadata": {},
   "source": [
    "## Relying on traditional methods example\n",
    "Smaller files allow you to create and store a hash in one piece."
   ]
  },
  {
   "cell_type": "code",
   "execution_count": 1,
   "metadata": {},
   "outputs": [
    {
     "name": "stdout",
     "output_type": "stream",
     "text": [
      "The file hasn't been modified.\n",
      "File Name: test_hash.csv\n",
      "MD5: '97bc3129a2cf1c3a304c76747d07a846'\n",
      "SHA1: 'b5b20e6ea9772d37900f8dcad7fdbf455579ab1f'\n"
     ]
    }
   ],
   "source": [
    "from hashlib import md5, sha1\n",
    "from os import path\n",
    "\n",
    "inputFile = \"test_hash.csv\"\n",
    "hashFile = \"hashes.txt\"\n",
    "\n",
    "## Obtain the file hashes.\n",
    "openedInput = open(inputFile, 'r', encoding='utf-8')\n",
    "readFile = openedInput.read()\n",
    "\n",
    "md5Hash = md5(readFile.encode())\n",
    "md5Hashed = md5Hash.hexdigest()\n",
    "\n",
    "sha1Hash = sha1(readFile.encode())\n",
    "sha1Hashed = sha1Hash.hexdigest()\n",
    "\n",
    "openedInput.close()\n",
    "\n",
    "## Open the saved values, when they exist.\n",
    "saveHash = True\n",
    "if path.exists(hashFile):\n",
    "    ## Get the hash values.\n",
    "    openedHash = open(hashFile, 'r', encoding='utf-8')\n",
    "    read_md5Hash = openedHash.readline().rstrip()\n",
    "    read_sha1Hash = openedHash.readline()\n",
    "    \n",
    "    ## Compare them to the current hash.\n",
    "    if (md5Hashed == read_md5Hash) and \\\n",
    "    (sha1Hashed == read_sha1Hash):\n",
    "        print(\"The file hasn't been modified.\")\n",
    "    else:\n",
    "        print(\"Someone has changed the file.\")\n",
    "        print(\"Original md5: %r\\n\\tNew: %r\" % \\\n",
    "              (read_md5Hash, md5Hashed))\n",
    "        print(\"Original sha1: %r\\n\\tNew: %r\" % \\\n",
    "              (read_sha1Hash, sha1Hashed))\n",
    "\n",
    "        saveHash = False\n",
    "    \n",
    "    openedHash.close()\n",
    "\n",
    "if saveHash:\n",
    "    ## Output the current hash values\n",
    "    print(\"File Name: %s\" % inputFile)\n",
    "    print(\"MD5: %r\" % md5Hashed)\n",
    "    print(\"SHA1: %r\" % sha1Hashed)\n",
    "\n",
    "    ## Save the current values to the hash file.\n",
    "    openedHash = open(hashFile, 'w')\n",
    "    openedHash.write(md5Hashed)\n",
    "    openedHash.write('\\n')\n",
    "    openedHash.write(sha1Hashed)\n",
    "    openedHash.close()"
   ]
  },
  {
   "cell_type": "code",
   "execution_count": null,
   "metadata": {},
   "outputs": [],
   "source": []
  }
 ],
 "metadata": {
  "kernelspec": {
   "display_name": "Python 3",
   "language": "python",
   "name": "python3"
  },
  "language_info": {
   "codemirror_mode": {
    "name": "ipython",
    "version": 3
   },
   "file_extension": ".py",
   "mimetype": "text/x-python",
   "name": "python",
   "nbconvert_exporter": "python",
   "pygments_lexer": "ipython3",
   "version": "3.8.3"
  }
 },
 "nbformat": 4,
 "nbformat_minor": 4
}
